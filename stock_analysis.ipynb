{
 "cells": [
  {
   "cell_type": "code",
   "execution_count": 1,
   "metadata": {},
   "outputs": [
    {
     "name": "stdout",
     "output_type": "stream",
     "text": [
      "YF.download() has changed argument auto_adjust default to True\n"
     ]
    },
    {
     "name": "stderr",
     "output_type": "stream",
     "text": [
      "[*********************100%***********************]  1 of 1 completed\n"
     ]
    }
   ],
   "source": [
    "#Downloads a single stock\n",
    "\n",
    "import yfinance as yf\n",
    "import pandas as pd\n",
    "#First Getting Data for AAPL\n",
    "stock_sym = 'AAPL'\n",
    "AAPL_data = yf.download(stock_sym, start = '2020-01-01', end = '2025-01-01')\n",
    "\n",
    "AAPL_data.to_csv(f'data/raw_data/{stock_sym}_raw_data.csv')\n",
    "\n",
    "#print(data.head())\n",
    "\n"
   ]
  },
  {
   "cell_type": "code",
   "execution_count": 3,
   "metadata": {},
   "outputs": [
    {
     "name": "stdout",
     "output_type": "stream",
     "text": [
      "Raw Data:\n",
      "                        Close               High                Low  \\\n",
      "Price                                                                 \n",
      "Ticker                   AAPL               AAPL               AAPL   \n",
      "Date                      NaN                NaN                NaN   \n",
      "2020-01-02    72.716064453125  72.77659055848162   71.4668047519516   \n",
      "2020-01-03  72.00912475585938   72.7717522953066  71.78396939069293   \n",
      "2020-01-06   72.5829086303711  72.62164622763687  70.87607527260708   \n",
      "2020-01-07  72.24154663085938  72.84922374466596  72.02123070618616   \n",
      "2020-01-08  73.40364074707031  73.70627127642481  71.94375136900179   \n",
      "2020-01-09  74.96279907226562  75.15647966923257  74.13238261481911   \n",
      "2020-01-10  75.13226318359375  75.69879404161257  74.62868922900458   \n",
      "2020-01-13   76.7374267578125  76.76406209011934  75.33080045122755   \n",
      "\n",
      "                         Open     Volume  \n",
      "Price                                     \n",
      "Ticker                   AAPL       AAPL  \n",
      "Date                      NaN        NaN  \n",
      "2020-01-02  71.72101143907315  135480400  \n",
      "2020-01-03  71.94133580542943  146322800  \n",
      "2020-01-06  71.12786596061405  118387200  \n",
      "2020-01-07  72.59259363206662  108872000  \n",
      "2020-01-08  71.94375136900179  132079200  \n",
      "2020-01-09   74.3841659131879  170108400  \n",
      "2020-01-10  75.19763610714092  140644800  \n",
      "2020-01-13  75.44943665950792  121532000  \n"
     ]
    },
    {
     "name": "stderr",
     "output_type": "stream",
     "text": [
      "C:\\Users\\kevin\\AppData\\Local\\Temp\\ipykernel_2532\\3689494497.py:8: UserWarning: Could not infer format, so each element will be parsed individually, falling back to `dateutil`. To ensure parsing is consistent and as-expected, please specify a format.\n",
      "  df = pd.read_csv(input_file, index_col = 0, parse_dates =True)\n"
     ]
    }
   ],
   "source": [
    "import pandas as pd\n",
    "import os\n",
    "\n",
    "input_file = 'data/raw_data/AAPL_raw_data.csv'\n",
    "\n",
    "output_file = 'data/clean_data/APPL_clean_data.csv'\n",
    "\n",
    "df = pd.read_csv(input_file, index_col = 0, parse_dates =True)\n",
    "\n",
    "print(\"Raw Data:\")\n",
    "print(df.head(10))"
   ]
  }
 ],
 "metadata": {
  "kernelspec": {
   "display_name": "venv",
   "language": "python",
   "name": "python3"
  },
  "language_info": {
   "codemirror_mode": {
    "name": "ipython",
    "version": 3
   },
   "file_extension": ".py",
   "mimetype": "text/x-python",
   "name": "python",
   "nbconvert_exporter": "python",
   "pygments_lexer": "ipython3",
   "version": "3.13.1"
  }
 },
 "nbformat": 4,
 "nbformat_minor": 2
}
